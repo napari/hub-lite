{
 "cells": [
  {
   "cell_type": "code",
   "execution_count": 5,
   "metadata": {},
   "outputs": [
    {
     "name": "stdout",
     "output_type": "stream",
     "text": [
      "Extracted CSS is saved to all_plugins_styles.css\n"
     ]
    }
   ],
   "source": [
    "from bs4 import BeautifulSoup\n",
    "import re\n",
    "\n",
    "\n",
    "def extract_css_from_html(html_content):\n",
    "    # Use regular expression to find all <style>...</style> blocks in the HTML\n",
    "    style_blocks = re.findall(r\"<style.*?>(.*?)</style>\", html_content, re.DOTALL)\n",
    "    # Combine all the CSS from the style blocks into one string\n",
    "    css_content = \"\\n\".join(style_blocks)\n",
    "\n",
    "    # Clean the CSS content by removing unnecessary tabs and multiple spaces\n",
    "    clean_css_content = re.sub(r\"\\t+\", \"\", css_content)  # Remove tabs\n",
    "    clean_css_content = re.sub(\n",
    "        r\" {2,}\", \" \", clean_css_content\n",
    "    )  # Replace multiple spaces with a single space\n",
    "    return clean_css_content\n",
    "\n",
    "\n",
    "# Function to remove all <style> tags from the HTML content and link the external CSS file\n",
    "def remove_style_tags_and_link_css(html_content, css_file_name):\n",
    "    # Remove all <style>...</style> blocks from the HTML\n",
    "    html_without_styles = re.sub(\n",
    "        r\"<style.*?>.*?</style>\", \"\", html_content, flags=re.DOTALL\n",
    "    )\n",
    "\n",
    "    # Create a soup object from the modified HTML content\n",
    "    soup = BeautifulSoup(html_without_styles, \"html.parser\")\n",
    "\n",
    "    # Create a new link tag to link the extracted CSS file\n",
    "    new_link_tag = soup.new_tag(\n",
    "        \"link\", rel=\"stylesheet\", href=css_file_name, type=\"./css\"\n",
    "    )\n",
    "\n",
    "    # Find the head tag (or create one if it doesn't exist) and insert the new link tag\n",
    "    head_tag = soup.head\n",
    "    if head_tag is None:\n",
    "        head_tag = soup.new_tag(\"head\")\n",
    "        soup.html.insert(0, head_tag)\n",
    "    head_tag.append(new_link_tag)\n",
    "\n",
    "    # Return the modified HTML as a string\n",
    "    return str(soup)\n",
    "\n",
    "\n",
    "# Replace this with the path to your actual HTML file\n",
    "path_to_html_file = \"all_plugins.html\"\n",
    "\n",
    "# Read the HTML content from the file\n",
    "with open(path_to_html_file, \"r\") as file:\n",
    "    html_content = file.read()\n",
    "\n",
    "    # Extract CSS from the HTML content\n",
    "    extracted_css = extract_css_from_html(html_content)\n",
    "\n",
    "    # Define the path for the CSS file to save the extracted CSS\n",
    "    css_file_path = \"all_plugins_styles.css\"\n",
    "\n",
    "    # Write the extracted CSS to the CSS file\n",
    "    with open(css_file_path, \"w\") as css_file:\n",
    "        css_file.write(extracted_css)\n",
    "\n",
    "    print(f\"Extracted CSS is saved to {css_file_path}\")\n",
    "\n",
    "    # Apply the function to remove <style> tags and add the link to the external CSS file\n",
    "    new_html_content = remove_style_tags_and_link_css(html_content, css_file_path)\n",
    "\n",
    "    # Define the path for the new HTML file\n",
    "    new_html_file_path = \"./new_all_plugins.html\"\n",
    "\n",
    "    # Write the new HTML content to a file\n",
    "    with open(new_html_file_path, \"w\") as file:\n",
    "        file.write(new_html_content)"
   ]
  }
 ],
 "metadata": {
  "kernelspec": {
   "display_name": "vercel2git",
   "language": "python",
   "name": "python3"
  },
  "language_info": {
   "codemirror_mode": {
    "name": "ipython",
    "version": 3
   },
   "file_extension": ".py",
   "mimetype": "text/x-python",
   "name": "python",
   "nbconvert_exporter": "python",
   "pygments_lexer": "ipython3",
   "version": "3.12.1"
  }
 },
 "nbformat": 4,
 "nbformat_minor": 2
}
