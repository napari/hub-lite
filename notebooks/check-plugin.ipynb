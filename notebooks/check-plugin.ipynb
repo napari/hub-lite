{
 "cells": [
  {
   "cell_type": "code",
   "execution_count": null,
   "id": "b95cf29e-7400-4c55-a53a-e5e7572d3078",
   "metadata": {},
   "outputs": [],
   "source": [
    "import pandas as pd"
   ]
  },
  {
   "cell_type": "code",
   "execution_count": null,
   "id": "0fa8619d-c535-49a6-b942-64a6334faf4d",
   "metadata": {},
   "outputs": [],
   "source": [
    "df = pd.read_csv('../_build/data/final_plugins.csv')"
   ]
  },
  {
   "cell_type": "code",
   "execution_count": null,
   "id": "3b166483-54f8-4be0-b4f1-24930a18430c",
   "metadata": {},
   "outputs": [],
   "source": [
    "df.columns"
   ]
  },
  {
   "cell_type": "code",
   "execution_count": null,
   "id": "0a3ca6a9-03ae-4951-9839-19aea7ba9814",
   "metadata": {},
   "outputs": [],
   "source": [
    "mask = df['normalized_name'].str.contains('napari-animation', case=False)\n",
    "\n",
    "# Filter to get matching rows\n",
    "result = df[df['normalized_name'].str.contains('napari-animation', case=False)]"
   ]
  },
  {
   "cell_type": "code",
   "execution_count": null,
   "id": "b1478efb-a2d9-49d6-9f4a-28c14b9b29b2",
   "metadata": {},
   "outputs": [],
   "source": [
    "result"
   ]
  },
  {
   "cell_type": "code",
   "execution_count": null,
   "id": "e86ece6e-d3b7-4265-90d8-2de43b981e3c",
   "metadata": {},
   "outputs": [],
   "source": []
  }
 ],
 "metadata": {
  "kernelspec": {
   "display_name": "Python 3 (ipykernel)",
   "language": "python",
   "name": "python3"
  },
  "language_info": {
   "codemirror_mode": {
    "name": "ipython",
    "version": 3
   },
   "file_extension": ".py",
   "mimetype": "text/x-python",
   "name": "python",
   "nbconvert_exporter": "python",
   "pygments_lexer": "ipython3",
   "version": "3.13.5"
  }
 },
 "nbformat": 4,
 "nbformat_minor": 5
}
